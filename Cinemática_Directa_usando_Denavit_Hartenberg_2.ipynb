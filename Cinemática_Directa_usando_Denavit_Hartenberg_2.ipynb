{
  "nbformat": 4,
  "nbformat_minor": 0,
  "metadata": {
    "colab": {
      "name": "Cinemática Directa usando Denavit-Hartenberg 2.ipynb",
      "provenance": []
    },
    "kernelspec": {
      "name": "python3",
      "display_name": "Python 3"
    }
  },
  "cells": [
    {
      "cell_type": "markdown",
      "metadata": {
        "id": "lP2UswuJSM-W"
      },
      "source": [
        "##Ejemplo 2: Robot FANUC M-10iA\n",
        "##1. Cálculo Simbólico de la Cinemática Directa \n",
        "Se utilizará sympy para encontrar la matriz de transformación homogéneas de Denavit-Hartenberg (convención estándar)"
      ]
    },
    {
      "cell_type": "code",
      "metadata": {
        "id": "_CS6426NQ1Qr"
      },
      "source": [
        "import sympy as sp                # Biblioteca para el cálculo simbólico\n",
        "\n",
        "def sTdh(d, th, a, alpha):\n",
        "    cth = sp.cos(th); sth = sp.sin(th)\n",
        "    ca = sp.cos(alpha); sa = sp.sin(alpha)\n",
        "    Tdh = sp.Matrix([[cth, -ca*sth,  sa*sth, a*cth],\n",
        "                     [sth,  ca*cth, -sa*cth, a*sth],\n",
        "                     [0,        sa,     ca,      d],\n",
        "                     [0,         0,      0,      1]])\n",
        "    return Tdh"
      ],
      "execution_count": null,
      "outputs": []
    },
    {
      "cell_type": "code",
      "metadata": {
        "id": "ChCHGEVDSpO1"
      },
      "source": [
        "# Variables simbólicas\n",
        "q1, q2, q3, q4, q5, q6 = sp.symbols(\"q1 q2 q3 q4 q5 q6\")\n",
        "l1, l2, l3, l4 = sp.symbols(\"l1 l2 l3 l4\")\n",
        "\n",
        "# Transformaciones homogéneas\n",
        "T01 = sTdh( 450,   sp.pi+q1, -150, sp.pi/2)\n",
        "T12 = sTdh(   0, q2+sp.pi/2,  600,       0)\n",
        "T23 = sTdh(   0,   q3+sp.pi, -200, sp.pi/2)\n",
        "T34 = sTdh( 640,   q4+sp.pi,    0, sp.pi/2)\n",
        "T45 = sTdh(   0,   q5+sp.pi,    0, sp.pi/2)\n",
        "T56 = sTdh(   0,         q6,    0,       0)\n",
        "\n",
        "# Transformación homogénea final\n",
        "Tf = sp.simplify(T01*T12*T23*T34*T45*T56)\n",
        "\n",
        "# Mostrar las transformaciones homogéneas (display funciona con IPython)\n",
        "print(\"T01:\"); display(T01)\n",
        "print(\"T12:\"); display(T12)\n",
        "print(\"T23:\"); display(T23)\n",
        "print(\"T34:\"); display(T34)\n",
        "print(\"T45:\"); display(T45)\n",
        "print(\"T56:\"); display(T56)\n",
        "print(\"T06:\"); display(Tf)"
      ],
      "execution_count": null,
      "outputs": []
    },
    {
      "cell_type": "code",
      "metadata": {
        "id": "W6Ua8lPESsRy"
      },
      "source": [
        "# Valor cuando todos los ángulos son cero\n",
        "print(\"T06 cuando q=(0,0,0,0,0,0):\")\n",
        "Tf.subs({q1:0., q2:0., q3:0., q4:0., q5:0., q6:0.})"
      ],
      "execution_count": null,
      "outputs": []
    },
    {
      "cell_type": "markdown",
      "metadata": {
        "id": "YT7L2aFGSt3p"
      },
      "source": [
        "##2. Cálculo Numérico de la Cinemática Directa\n",
        "\n",
        "En este caso se utilizará numpy para el manejo de matrices y vectores"
      ]
    },
    {
      "cell_type": "code",
      "metadata": {
        "id": "T8xfxEkpSxC4"
      },
      "source": [
        "import numpy as np\n",
        "\n",
        "def Tdh(d, th, a, alpha):\n",
        "    cth = np.cos(th);    sth = np.sin(th)\n",
        "    ca = np.cos(alpha);  sa = np.sin(alpha)\n",
        "    Tdh = np.array([[cth, -ca*sth,  sa*sth, a*cth],\n",
        "                    [sth,  ca*cth, -sa*cth, a*sth],\n",
        "                    [0,        sa,     ca,      d],\n",
        "                    [0,         0,      0,      1]])\n",
        "    return Tdh"
      ],
      "execution_count": null,
      "outputs": []
    },
    {
      "cell_type": "code",
      "metadata": {
        "id": "Hh1kOBRGSyQl"
      },
      "source": [
        "# Cinemática directa del robot\n",
        "def cdirecta_fanuc(q):\n",
        "    \"\"\" Retorna los sistemas de referencia de cada eslabón con respecto a la base\n",
        "    \"\"\"\n",
        "    # Transformaciones homogéneas de DH\n",
        "    T01 = Tdh( 450,   np.pi+q[0], -150, np.pi/2);\n",
        "    T12 = Tdh(   0, q[1]+np.pi/2,  600,       0);\n",
        "    T23 = Tdh(   0,   q[2]+np.pi, -200, np.pi/2);\n",
        "    T34 = Tdh( 640,   q[3]+np.pi,    0, np.pi/2);\n",
        "    T45 = Tdh(   0,   q[4]+np.pi,    0, np.pi/2);\n",
        "    T56 = Tdh(   0,         q[5],    0,       0);\n",
        "    # Efector final con respecto a la base\n",
        "    Tf = T01.dot(T12).dot(T23).dot(T34).dot(T45).dot(T56)\n",
        "    return Tf"
      ],
      "execution_count": null,
      "outputs": []
    },
    {
      "cell_type": "code",
      "metadata": {
        "id": "8U1OVUUFS1G8"
      },
      "source": [
        "# Ejemplo de cálculo de la cinemática directa\n",
        "q = np.array([0., 0., 0., 0., 0., 0.])\n",
        "\n",
        "# Cinemática directa\n",
        "Te = cdirecta_fanuc(np.deg2rad(q))   # Cinemática directa\n",
        "\n",
        "# Mostrar el resultado\n",
        "print(\"Efector final con respecto a la base cuando q1={}, q2={}, q3={}, q4={}, q5={}, q6={}\".format(q[0], q[1], q[2],\n",
        "                                                                                                    q[3], q[4], q[5]))\n",
        "\n",
        "print(np.round(Te,4))"
      ],
      "execution_count": null,
      "outputs": []
    },
    {
      "cell_type": "markdown",
      "metadata": {
        "id": "tGUsydf5S4cR"
      },
      "source": [
        "##3. Gráfico del Robot FANUC M10iA\n",
        "Se utilizará una clase llamada SerialRobot, donde se definirá el robot utilizando los parámetros de Denavit-Hartenberg calculados. Usando esta clase se graficará el robot. Internamente, esta clase usa matplotlib para realizar el gráfico."
      ]
    },
    {
      "cell_type": "code",
      "metadata": {
        "id": "df3ictQCS3O2"
      },
      "source": [
        "from serialrobot import *\n",
        "\n",
        "# Parámetros DH del robot\n",
        "# d, th, a, alpha\n",
        "L = [[ 0.450,   np.pi, -0.150, np.pi/2, 'r'],\n",
        "     [     0, np.pi/2,  0.600,       0, 'r'],\n",
        "     [     0,   np.pi, -0.200, np.pi/2, 'r'],\n",
        "     [ 0.640,   np.pi,      0, np.pi/2, 'r'],\n",
        "     [     0,   np.pi,      0, np.pi/2, 'r'],\n",
        "     [     0,       0,      0,       0, 'r']]\n",
        "\n",
        "# Creación del robot\n",
        "fanuc = SerialRobot(L, name='fanuc-M10iA')"
      ],
      "execution_count": null,
      "outputs": []
    },
    {
      "cell_type": "code",
      "metadata": {
        "id": "BKe5IOrVTAz_"
      },
      "source": [
        "# \"qt\" realiza el gráfico en una ventana nueva (para abrir un nuevo gráfico usar matplotlib qt)\n",
        "%matplotlib inline"
      ],
      "execution_count": null,
      "outputs": []
    },
    {
      "cell_type": "code",
      "metadata": {
        "id": "sDMeNvH9TCZ5"
      },
      "source": [
        "alims = [[-0.1,1.3],[-0.7,0.7],[-0.1, 1.4]]\n",
        "fanuc.plot([0, 0.5, -0.5, 0., -0, 0], axlimits=alims, ascale=0.3, ee=False)"
      ],
      "execution_count": null,
      "outputs": []
    }
  ]
}